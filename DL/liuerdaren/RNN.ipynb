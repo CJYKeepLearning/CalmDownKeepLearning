{
 "cells": [
  {
   "cell_type": "code",
   "execution_count": 1,
   "id": "5f7196ff",
   "metadata": {},
   "outputs": [],
   "source": [
    "import torch\n",
    "batch_size = 1\n",
    "seq_len = 3\n",
    "input_size = 4\n",
    "hidden_size = 2\n",
    "num_layers = 1"
   ]
  },
  {
   "cell_type": "code",
   "execution_count": 2,
   "id": "081bef02",
   "metadata": {},
   "outputs": [],
   "source": [
    "cell = torch.nn.RNN(input_size = input_size, hidden_size = hidden_size,num_layers = num_layers)"
   ]
  },
  {
   "cell_type": "code",
   "execution_count": 3,
   "id": "af67a77e",
   "metadata": {},
   "outputs": [],
   "source": [
    "inputs = torch.randn(seq_len,batch_size,input_size)\n",
    "hidden = torch.zeros(num_layers,batch_size,hidden_size)"
   ]
  },
  {
   "cell_type": "code",
   "execution_count": 4,
   "id": "e327b7f8",
   "metadata": {},
   "outputs": [],
   "source": [
    "out, hidden = cell(inputs, hidden)"
   ]
  },
  {
   "cell_type": "code",
   "execution_count": 6,
   "id": "0076b5d5",
   "metadata": {},
   "outputs": [
    {
     "name": "stdout",
     "output_type": "stream",
     "text": [
      "Output size: torch.Size([3, 1, 2])\n",
      "Output: tensor([[[-0.1807, -0.7648]],\n",
      "\n",
      "        [[-0.4248, -0.8392]],\n",
      "\n",
      "        [[ 0.2380,  0.7849]]], grad_fn=<StackBackward0>)\n",
      "Hidden size: torch.Size([1, 1, 2])\n",
      "Hidden: tensor([[[0.2380, 0.7849]]], grad_fn=<StackBackward0>)\n"
     ]
    }
   ],
   "source": [
    "print('Output size:',out.shape)\n",
    "print('Output:',out)\n",
    "print('Hidden size:',hidden.shape)\n",
    "print('Hidden:', hidden)"
   ]
  },
  {
   "cell_type": "code",
   "execution_count": null,
   "id": "5b5c1b14",
   "metadata": {},
   "outputs": [],
   "source": []
  }
 ],
 "metadata": {
  "kernelspec": {
   "display_name": "Python 3 (ipykernel)",
   "language": "python",
   "name": "python3"
  },
  "language_info": {
   "codemirror_mode": {
    "name": "ipython",
    "version": 3
   },
   "file_extension": ".py",
   "mimetype": "text/x-python",
   "name": "python",
   "nbconvert_exporter": "python",
   "pygments_lexer": "ipython3",
   "version": "3.9.7"
  }
 },
 "nbformat": 4,
 "nbformat_minor": 5
}
