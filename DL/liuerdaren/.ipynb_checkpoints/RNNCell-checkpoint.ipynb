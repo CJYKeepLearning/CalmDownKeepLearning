{
 "cells": [
  {
   "cell_type": "code",
   "execution_count": 13,
   "id": "89e216f7",
   "metadata": {},
   "outputs": [],
   "source": [
    "import torch\n",
    "batch_size = 2\n",
    "seq_len = 3\n",
    "input_size = 4\n",
    "hidden_size = 2"
   ]
  },
  {
   "cell_type": "code",
   "execution_count": 14,
   "id": "e642c373",
   "metadata": {},
   "outputs": [],
   "source": [
    "cell = torch.nn.RNNCell(input_size=input_size, hidden_size=hidden_size)"
   ]
  },
  {
   "cell_type": "code",
   "execution_count": 15,
   "id": "67a35055",
   "metadata": {},
   "outputs": [
    {
     "name": "stdout",
     "output_type": "stream",
     "text": [
      "tensor([[[-0.9765, -0.1460,  0.1503, -0.1829],\n",
      "         [ 2.5885,  0.8175,  0.0160, -0.3044]],\n",
      "\n",
      "        [[ 0.6212,  0.1999,  0.9007, -1.2547],\n",
      "         [ 0.7534, -1.8983,  1.0359,  0.1173]],\n",
      "\n",
      "        [[ 0.2075, -1.0992,  0.0957, -0.1829],\n",
      "         [-0.8546, -0.3905,  1.6016, -0.0211]]])\n",
      "--------------------\n",
      "tensor([[0., 0.],\n",
      "        [0., 0.]])\n",
      "==================== 0 ====================\n",
      "Input size: torch.Size([2, 4])\n",
      "outputs size: torch.Size([2, 2])\n",
      "tensor([[ 0.7288,  0.2259],\n",
      "        [-0.0258,  0.9656]], grad_fn=<TanhBackward0>)\n",
      "==================== 1 ====================\n",
      "Input size: torch.Size([2, 4])\n",
      "outputs size: torch.Size([2, 2])\n",
      "tensor([[ 0.7403, -0.0714],\n",
      "        [ 0.3733, -0.4918]], grad_fn=<TanhBackward0>)\n",
      "==================== 2 ====================\n",
      "Input size: torch.Size([2, 4])\n",
      "outputs size: torch.Size([2, 2])\n",
      "tensor([[ 0.7130, -0.3286],\n",
      "        [ 0.9458,  0.1113]], grad_fn=<TanhBackward0>)\n"
     ]
    }
   ],
   "source": [
    "dataset = torch.randn(seq_len, batch_size, input_size)\n",
    "hidden = torch.zeros(batch_size, hidden_size)\n",
    "print(dataset)\n",
    "print('-' * 20)\n",
    "print(hidden)\n",
    "for idx, input in enumerate(dataset):\n",
    "    print('='*20,idx,'='*20)\n",
    "    print('Input size:',input.shape)\n",
    "    hidden = cell(input, hidden)\n",
    "    print('outputs size:',hidden.shape)\n",
    "    print(hidden)"
   ]
  },
  {
   "cell_type": "code",
   "execution_count": null,
   "id": "3471f9a5",
   "metadata": {},
   "outputs": [],
   "source": []
  }
 ],
 "metadata": {
  "kernelspec": {
   "display_name": "Python 3 (ipykernel)",
   "language": "python",
   "name": "python3"
  },
  "language_info": {
   "codemirror_mode": {
    "name": "ipython",
    "version": 3
   },
   "file_extension": ".py",
   "mimetype": "text/x-python",
   "name": "python",
   "nbconvert_exporter": "python",
   "pygments_lexer": "ipython3",
   "version": "3.9.7"
  }
 },
 "nbformat": 4,
 "nbformat_minor": 5
}
