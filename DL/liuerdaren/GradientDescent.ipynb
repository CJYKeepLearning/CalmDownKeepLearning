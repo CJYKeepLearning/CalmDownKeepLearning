{
 "cells": [
  {
   "cell_type": "code",
   "execution_count": 1,
   "id": "0628c808",
   "metadata": {},
   "outputs": [],
   "source": [
    "import numpy as np\n",
    "import matplotlib.pyplot as plt"
   ]
  },
  {
   "cell_type": "code",
   "execution_count": 8,
   "id": "a08b8b4f",
   "metadata": {},
   "outputs": [],
   "source": [
    "x_data = [1.0, 2.0, 3.0]\n",
    "y_data = [2.0, 4.0, 6.0]\n",
    "w = 1.0\n",
    "w_list = []\n",
    "mse_list = []"
   ]
  },
  {
   "cell_type": "code",
   "execution_count": 3,
   "id": "406d62d9",
   "metadata": {},
   "outputs": [],
   "source": [
    "def forward(x):\n",
    "    return x*w"
   ]
  },
  {
   "cell_type": "code",
   "execution_count": 10,
   "id": "282f1bbe",
   "metadata": {},
   "outputs": [],
   "source": [
    "def cost(xs,ys):\n",
    "    cost_val = 0\n",
    "    for x, y in zip(xs,ys):\n",
    "        y_pred = forward(x)\n",
    "        cost_val += (y_pred - y)**2\n",
    "    return cost_val / len(xs)"
   ]
  },
  {
   "cell_type": "code",
   "execution_count": 5,
   "id": "b1b5f4e4",
   "metadata": {},
   "outputs": [],
   "source": [
    "def gradient(xs, ys):\n",
    "    grad = 0\n",
    "    for x, y in zip(xs, ys):\n",
    "        grad += 2*x*(x*w - y)\n",
    "    return grad / len(xs)"
   ]
  },
  {
   "cell_type": "code",
   "execution_count": 15,
   "id": "d1b0f1ef",
   "metadata": {},
   "outputs": [
    {
     "name": "stdout",
     "output_type": "stream",
     "text": [
      "Predict (before traing) 4 7.999999988804654\n",
      "Epoch: 0 w= 1.9999999998134108 loss= 3.6556265500679413e-17\n",
      "Epoch: 1 w= 1.9999999999875606 loss= 1.6247236845220326e-19\n",
      "Epoch: 2 w= 1.9999999999991707 loss= 7.221007657145658e-22\n",
      "Epoch: 3 w= 1.9999999999999447 loss= 3.209361294114374e-24\n",
      "Epoch: 4 w= 1.9999999999999964 loss= 1.4290034517454515e-26\n",
      "Epoch: 5 w= 1.9999999999999998 loss= 5.890161425650222e-29\n",
      "Epoch: 6 w= 2.0 loss= 3.4512664603419266e-31\n",
      "Epoch: 7 w= 2.0 loss= 0.0\n",
      "Epoch: 8 w= 2.0 loss= 0.0\n",
      "Epoch: 9 w= 2.0 loss= 0.0\n",
      "Epoch: 10 w= 2.0 loss= 0.0\n",
      "Epoch: 11 w= 2.0 loss= 0.0\n",
      "Epoch: 12 w= 2.0 loss= 0.0\n",
      "Epoch: 13 w= 2.0 loss= 0.0\n",
      "Epoch: 14 w= 2.0 loss= 0.0\n",
      "Epoch: 15 w= 2.0 loss= 0.0\n",
      "Epoch: 16 w= 2.0 loss= 0.0\n",
      "Epoch: 17 w= 2.0 loss= 0.0\n",
      "Epoch: 18 w= 2.0 loss= 0.0\n",
      "Epoch: 19 w= 2.0 loss= 0.0\n",
      "Epoch: 20 w= 2.0 loss= 0.0\n",
      "Epoch: 21 w= 2.0 loss= 0.0\n",
      "Epoch: 22 w= 2.0 loss= 0.0\n",
      "Epoch: 23 w= 2.0 loss= 0.0\n",
      "Epoch: 24 w= 2.0 loss= 0.0\n",
      "Epoch: 25 w= 2.0 loss= 0.0\n",
      "Epoch: 26 w= 2.0 loss= 0.0\n",
      "Epoch: 27 w= 2.0 loss= 0.0\n",
      "Epoch: 28 w= 2.0 loss= 0.0\n",
      "Epoch: 29 w= 2.0 loss= 0.0\n",
      "Epoch: 30 w= 2.0 loss= 0.0\n",
      "Epoch: 31 w= 2.0 loss= 0.0\n",
      "Epoch: 32 w= 2.0 loss= 0.0\n",
      "Epoch: 33 w= 2.0 loss= 0.0\n",
      "Epoch: 34 w= 2.0 loss= 0.0\n",
      "Epoch: 35 w= 2.0 loss= 0.0\n",
      "Epoch: 36 w= 2.0 loss= 0.0\n",
      "Epoch: 37 w= 2.0 loss= 0.0\n",
      "Epoch: 38 w= 2.0 loss= 0.0\n",
      "Epoch: 39 w= 2.0 loss= 0.0\n",
      "Epoch: 40 w= 2.0 loss= 0.0\n",
      "Epoch: 41 w= 2.0 loss= 0.0\n",
      "Epoch: 42 w= 2.0 loss= 0.0\n",
      "Epoch: 43 w= 2.0 loss= 0.0\n",
      "Epoch: 44 w= 2.0 loss= 0.0\n",
      "Epoch: 45 w= 2.0 loss= 0.0\n",
      "Epoch: 46 w= 2.0 loss= 0.0\n",
      "Epoch: 47 w= 2.0 loss= 0.0\n",
      "Epoch: 48 w= 2.0 loss= 0.0\n",
      "Epoch: 49 w= 2.0 loss= 0.0\n",
      "Epoch: 50 w= 2.0 loss= 0.0\n",
      "Epoch: 51 w= 2.0 loss= 0.0\n",
      "Epoch: 52 w= 2.0 loss= 0.0\n",
      "Epoch: 53 w= 2.0 loss= 0.0\n",
      "Epoch: 54 w= 2.0 loss= 0.0\n",
      "Epoch: 55 w= 2.0 loss= 0.0\n",
      "Epoch: 56 w= 2.0 loss= 0.0\n",
      "Epoch: 57 w= 2.0 loss= 0.0\n",
      "Epoch: 58 w= 2.0 loss= 0.0\n",
      "Epoch: 59 w= 2.0 loss= 0.0\n",
      "Epoch: 60 w= 2.0 loss= 0.0\n",
      "Epoch: 61 w= 2.0 loss= 0.0\n",
      "Epoch: 62 w= 2.0 loss= 0.0\n",
      "Epoch: 63 w= 2.0 loss= 0.0\n",
      "Epoch: 64 w= 2.0 loss= 0.0\n",
      "Epoch: 65 w= 2.0 loss= 0.0\n",
      "Epoch: 66 w= 2.0 loss= 0.0\n",
      "Epoch: 67 w= 2.0 loss= 0.0\n",
      "Epoch: 68 w= 2.0 loss= 0.0\n",
      "Epoch: 69 w= 2.0 loss= 0.0\n",
      "Epoch: 70 w= 2.0 loss= 0.0\n",
      "Epoch: 71 w= 2.0 loss= 0.0\n",
      "Epoch: 72 w= 2.0 loss= 0.0\n",
      "Epoch: 73 w= 2.0 loss= 0.0\n",
      "Epoch: 74 w= 2.0 loss= 0.0\n",
      "Epoch: 75 w= 2.0 loss= 0.0\n",
      "Epoch: 76 w= 2.0 loss= 0.0\n",
      "Epoch: 77 w= 2.0 loss= 0.0\n",
      "Epoch: 78 w= 2.0 loss= 0.0\n",
      "Epoch: 79 w= 2.0 loss= 0.0\n",
      "Epoch: 80 w= 2.0 loss= 0.0\n",
      "Epoch: 81 w= 2.0 loss= 0.0\n",
      "Epoch: 82 w= 2.0 loss= 0.0\n",
      "Epoch: 83 w= 2.0 loss= 0.0\n",
      "Epoch: 84 w= 2.0 loss= 0.0\n",
      "Epoch: 85 w= 2.0 loss= 0.0\n",
      "Epoch: 86 w= 2.0 loss= 0.0\n",
      "Epoch: 87 w= 2.0 loss= 0.0\n",
      "Epoch: 88 w= 2.0 loss= 0.0\n",
      "Epoch: 89 w= 2.0 loss= 0.0\n",
      "Epoch: 90 w= 2.0 loss= 0.0\n",
      "Epoch: 91 w= 2.0 loss= 0.0\n",
      "Epoch: 92 w= 2.0 loss= 0.0\n",
      "Epoch: 93 w= 2.0 loss= 0.0\n",
      "Epoch: 94 w= 2.0 loss= 0.0\n",
      "Epoch: 95 w= 2.0 loss= 0.0\n",
      "Epoch: 96 w= 2.0 loss= 0.0\n",
      "Epoch: 97 w= 2.0 loss= 0.0\n",
      "Epoch: 98 w= 2.0 loss= 0.0\n",
      "Epoch: 99 w= 2.0 loss= 0.0\n",
      "Predict(after training) 4 8.0\n"
     ]
    }
   ],
   "source": [
    "print('Predict (before traing)',4,forward(4))\n",
    "for epoch in range(100):\n",
    "    cost_val = cost(x_data, y_data)\n",
    "    grad_val = gradient(x_data, y_data)\n",
    "    w -= 0.1 * grad_val\n",
    "    mse_list.append(cost_val)\n",
    "    w_list.append(w)\n",
    "    print('Epoch:',epoch,'w=',w,'loss=',cost_val)\n",
    "print('Predict(after training)',4,forward(4))"
   ]
  },
  {
   "cell_type": "code",
   "execution_count": 16,
   "id": "5b4cf12c",
   "metadata": {},
   "outputs": [
    {
     "data": {
      "text/plain": [
       "Text(0, 0.5, 'mse_list')"
      ]
     },
     "execution_count": 16,
     "metadata": {},
     "output_type": "execute_result"
    },
    {
     "data": {
      "image/png": "[encoded data removed]",
      "text/plain": [
       "<Figure size 432x288 with 1 Axes>"
      ]
     },
     "metadata": {
      "needs_background": "light"
     },
     "output_type": "display_data"
    }
   ],
   "source": [
    "plt.plot(w_list, mse_list)\n",
    "plt.xlabel('w')\n",
    "plt.ylabel('mse_list')"
   ]
  },
  {
   "cell_type": "code",
   "execution_count": null,
   "id": "1f5d9a14",
   "metadata": {},
   "outputs": [],
   "source": []
  },
  {
   "cell_type": "code",
   "execution_count": null,
   "id": "de8221fc",
   "metadata": {},
   "outputs": [],
   "source": []
  },
  {
   "cell_type": "code",
   "execution_count": null,
   "id": "cf248857",
   "metadata": {},
   "outputs": [],
   "source": []
  },
  {
   "cell_type": "code",
   "execution_count": null,
   "id": "7c31c03d",
   "metadata": {},
   "outputs": [],
   "source": []
  }
 ],
 "metadata": {
  "kernelspec": {
   "display_name": "Python 3 (ipykernel)",
   "language": "python",
   "name": "python3"
  },
  "language_info": {
   "codemirror_mode": {
    "name": "ipython",
    "version": 3
   },
   "file_extension": ".py",
   "mimetype": "text/x-python",
   "name": "python",
   "nbconvert_exporter": "python",
   "pygments_lexer": "ipython3",
   "version": "3.9.7"
  }
 },
 "nbformat": 4,
 "nbformat_minor": 5
}
