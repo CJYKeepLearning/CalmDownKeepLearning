{
 "cells": [
  {
   "cell_type": "code",
   "execution_count": 1,
   "id": "86131c49",
   "metadata": {},
   "outputs": [],
   "source": [
    "import torch\n",
    "import numpy as np\n",
    "from torch.utils.data import Dataset\n",
    "from torch.utils.data import DataLoader\n",
    "from sklearn.model_selection import train_test_split"
   ]
  },
  {
   "cell_type": "code",
   "execution_count": 3,
   "id": "d897709f",
   "metadata": {},
   "outputs": [],
   "source": [
    "raw_data = np.loadtxt('diabetes.csv', delimiter=',', dtype=np.float32)\n",
    "X = raw_data[:, :-1]\n",
    "y = raw_data[:, [-1]]\n",
    "X_train, X_test, y_train, y_test = train_test_split(X, y, test_size = 0.3)\n",
    "X_test = torch.from_numpy(X_test)\n",
    "y_test = torch.from_numpy(y_test)"
   ]
  },
  {
   "cell_type": "code",
   "execution_count": 11,
   "id": "fabcfe1b",
   "metadata": {},
   "outputs": [
    {
     "name": "stdout",
     "output_type": "stream",
     "text": [
      "train loss: 0.4874582476913929,test acc: 0.7412280701754386\n",
      "train loss: 0.4583042897284031,test acc: 0.7236842105263158\n",
      "train loss: 0.46043875627219677,test acc: 0.7192982456140351\n",
      "train loss: 0.46135210432112217,test acc: 0.7192982456140351\n",
      "train loss: 0.4550736639648676,test acc: 0.7192982456140351\n",
      "train loss: 0.4518254715949297,test acc: 0.7368421052631579\n",
      "train loss: 0.4475599639117718,test acc: 0.75\n",
      "train loss: 0.43342849612236023,test acc: 0.7587719298245614\n",
      "train loss: 0.43642764165997505,test acc: 0.7719298245614035\n",
      "train loss: 0.43799961172044277,test acc: 0.7719298245614035\n",
      "train loss: 0.4351845681667328,test acc: 0.7631578947368421\n",
      "train loss: 0.4281159583479166,test acc: 0.7587719298245614\n",
      "train loss: 0.43511522095650434,test acc: 0.7675438596491229\n",
      "train loss: 0.4265899397432804,test acc: 0.7675438596491229\n",
      "train loss: 0.4221568237990141,test acc: 0.7631578947368421\n",
      "train loss: 0.4220983274281025,test acc: 0.7543859649122807\n",
      "train loss: 0.4189338758587837,test acc: 0.75\n",
      "train loss: 0.422645871527493,test acc: 0.75\n",
      "train loss: 0.4193388670682907,test acc: 0.7412280701754386\n",
      "train loss: 0.41689378675073385,test acc: 0.75\n",
      "train loss: 0.41275122202932835,test acc: 0.75\n",
      "train loss: 0.40949514508247375,test acc: 0.75\n",
      "train loss: 0.41117915511131287,test acc: 0.7587719298245614\n",
      "train loss: 0.4106425419449806,test acc: 0.75\n",
      "train loss: 0.41052070911973715,test acc: 0.7543859649122807\n"
     ]
    }
   ],
   "source": [
    "class DiabetesDataset(Dataset):\n",
    "    def __init__(self, data, label):\n",
    "        self.len = data.shape[0]\n",
    "        self.x_data = torch.from_numpy(data)\n",
    "        self.y_data = torch.from_numpy(label)\n",
    "        \n",
    "    def __getitem__(self,index):\n",
    "        return self.x_data[index],self.y_data[index]\n",
    "    \n",
    "    def __len__(self):\n",
    "        return self.len\n",
    "\n",
    "train_dataset = DiabetesDataset(X_train, y_train)\n",
    "train_loader = DataLoader(dataset = train_dataset, batch_size = 32, shuffle = True, num_workers = 0)\n",
    "\n",
    "class Model(torch.nn.Module):\n",
    "    def __init__(self):\n",
    "        super(Model,self).__init__()\n",
    "        self.linear1 = torch.nn.Linear(8,6)\n",
    "        self.linear2 = torch.nn.Linear(6,4)\n",
    "        self.linear3 = torch.nn.Linear(4,1)\n",
    "        self.sigmoid = torch.nn.Sigmoid()\n",
    "        \n",
    "    def forward(self, x):\n",
    "        x = self.sigmoid(self.linear1(x))\n",
    "        x = self.sigmoid(self.linear2(x))\n",
    "        x = self.sigmoid(self.linear3(x))\n",
    "        return x\n",
    "    \n",
    "model = Model()\n",
    "\n",
    "criterion = torch.nn.BCELoss(reduction = 'mean')\n",
    "optimizer = torch.optim.SGD(model.parameters(), lr = 0.01)\n",
    "\n",
    "def train(epoch):\n",
    "    train_loss = 0\n",
    "    count = 0\n",
    "    for i, data in enumerate(train_loader, 0):\n",
    "        inputs, labels = data\n",
    "        y_pred = model(inputs)\n",
    "        loss = criterion(y_pred, labels)\n",
    "        \n",
    "        optimizer.zero_grad()\n",
    "        loss.backward()\n",
    "        optimizer.step()\n",
    "        train_loss += loss.item()\n",
    "        count = i\n",
    "    \n",
    "    if epoch % 2000 == 1999:\n",
    "        print(\"train loss:\",train_loss/count,end=',')\n",
    "        \n",
    "def test():\n",
    "    with torch.no_grad():\n",
    "        y_pred = model(X_test)\n",
    "        y_pred_label = torch.where(y_pred >= 0.5,torch.tensor([1.0]),torch.tensor([0.0]))\n",
    "        acc = torch.eq(y_pred_label, y_test).sum().item() / y_test.size(0)\n",
    "        print(\"test acc:\",acc)\n",
    "        \n",
    "if __name__ == '__main__':\n",
    "    for epoch in range(50000):\n",
    "        train(epoch)\n",
    "        if epoch%2000 == 1999:\n",
    "            test()"
   ]
  },
  {
   "cell_type": "code",
   "execution_count": null,
   "id": "a0131141",
   "metadata": {},
   "outputs": [],
   "source": []
  }
 ],
 "metadata": {
  "kernelspec": {
   "display_name": "Python 3 (ipykernel)",
   "language": "python",
   "name": "python3"
  },
  "language_info": {
   "codemirror_mode": {
    "name": "ipython",
    "version": 3
   },
   "file_extension": ".py",
   "mimetype": "text/x-python",
   "name": "python",
   "nbconvert_exporter": "python",
   "pygments_lexer": "ipython3",
   "version": "3.9.7"
  }
 },
 "nbformat": 4,
 "nbformat_minor": 5
}
