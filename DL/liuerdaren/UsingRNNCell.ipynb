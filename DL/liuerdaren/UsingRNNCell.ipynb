{
 "cells": [
  {
   "cell_type": "code",
   "execution_count": 55,
   "id": "b2927014",
   "metadata": {},
   "outputs": [],
   "source": [
    "import torch\n",
    "input_size = 4\n",
    "hidden_size = 4\n",
    "batch_size = 1"
   ]
  },
  {
   "cell_type": "code",
   "execution_count": 56,
   "id": "14c86e6c",
   "metadata": {},
   "outputs": [],
   "source": [
    "idx2char = ['e','h','l','o']\n",
    "x_data = [1,0,2,2,1,0,2,2]\n",
    "y_data = [3,1,3,2,3,1,3,2]"
   ]
  },
  {
   "cell_type": "code",
   "execution_count": 57,
   "id": "23333d74",
   "metadata": {},
   "outputs": [],
   "source": [
    "ont_hot_lookup = [\n",
    "    [1,0,0,0],\n",
    "    [0,1,0,0],\n",
    "    [0,0,1,0],\n",
    "    [0,0,0,1]\n",
    "]"
   ]
  },
  {
   "cell_type": "code",
   "execution_count": 58,
   "id": "f9da4a5a",
   "metadata": {},
   "outputs": [
    {
     "name": "stdout",
     "output_type": "stream",
     "text": [
      "[[0, 1, 0, 0], [1, 0, 0, 0], [0, 0, 1, 0], [0, 0, 1, 0], [0, 1, 0, 0], [1, 0, 0, 0], [0, 0, 1, 0], [0, 0, 1, 0]]\n"
     ]
    }
   ],
   "source": [
    "x_one_hot = [ont_hot_lookup[x] for x in x_data]\n",
    "print(x_one_hot)"
   ]
  },
  {
   "cell_type": "code",
   "execution_count": 59,
   "id": "8e0c83e8",
   "metadata": {},
   "outputs": [
    {
     "name": "stdout",
     "output_type": "stream",
     "text": [
      "tensor([[[0., 1., 0., 0.],\n",
      "         [1., 0., 0., 0.]],\n",
      "\n",
      "        [[0., 0., 1., 0.],\n",
      "         [0., 0., 1., 0.]],\n",
      "\n",
      "        [[0., 1., 0., 0.],\n",
      "         [1., 0., 0., 0.]],\n",
      "\n",
      "        [[0., 0., 1., 0.],\n",
      "         [0., 0., 1., 0.]]])\n"
     ]
    }
   ],
   "source": [
    "inputs = torch.Tensor(x_one_hot).view(-1,batch_size,input_size)\n",
    "print(inputs)"
   ]
  },
  {
   "cell_type": "code",
   "execution_count": 60,
   "id": "3b66ea9d",
   "metadata": {},
   "outputs": [
    {
     "name": "stdout",
     "output_type": "stream",
     "text": [
      "(0, tensor([[0., 1., 0., 0.],\n",
      "        [1., 0., 0., 0.]]))\n",
      "--------------------\n",
      "(1, tensor([[0., 0., 1., 0.],\n",
      "        [0., 0., 1., 0.]]))\n",
      "--------------------\n",
      "(2, tensor([[0., 1., 0., 0.],\n",
      "        [1., 0., 0., 0.]]))\n",
      "--------------------\n",
      "(3, tensor([[0., 0., 1., 0.],\n",
      "        [0., 0., 1., 0.]]))\n",
      "--------------------\n",
      "(0, tensor([[0., 1., 0., 0.],\n",
      "        [1., 0., 0., 0.]]))\n",
      "--------------------\n",
      "(1, tensor([[0., 0., 1., 0.],\n",
      "        [0., 0., 1., 0.]]))\n",
      "--------------------\n",
      "(2, tensor([[0., 1., 0., 0.],\n",
      "        [1., 0., 0., 0.]]))\n",
      "--------------------\n",
      "(3, tensor([[0., 0., 1., 0.],\n",
      "        [0., 0., 1., 0.]]))\n",
      "--------------------\n",
      "(0, tensor([[0., 1., 0., 0.],\n",
      "        [1., 0., 0., 0.]]))\n",
      "--------------------\n",
      "(1, tensor([[0., 0., 1., 0.],\n",
      "        [0., 0., 1., 0.]]))\n",
      "--------------------\n",
      "(2, tensor([[0., 1., 0., 0.],\n",
      "        [1., 0., 0., 0.]]))\n",
      "--------------------\n",
      "(3, tensor([[0., 0., 1., 0.],\n",
      "        [0., 0., 1., 0.]]))\n",
      "--------------------\n",
      "(0, tensor([[0., 1., 0., 0.],\n",
      "        [1., 0., 0., 0.]]))\n",
      "--------------------\n",
      "(1, tensor([[0., 0., 1., 0.],\n",
      "        [0., 0., 1., 0.]]))\n",
      "--------------------\n",
      "(2, tensor([[0., 1., 0., 0.],\n",
      "        [1., 0., 0., 0.]]))\n",
      "--------------------\n",
      "(3, tensor([[0., 0., 1., 0.],\n",
      "        [0., 0., 1., 0.]]))\n",
      "--------------------\n",
      "(0, tensor([[0., 1., 0., 0.],\n",
      "        [1., 0., 0., 0.]]))\n",
      "--------------------\n",
      "(1, tensor([[0., 0., 1., 0.],\n",
      "        [0., 0., 1., 0.]]))\n",
      "--------------------\n",
      "(2, tensor([[0., 1., 0., 0.],\n",
      "        [1., 0., 0., 0.]]))\n",
      "--------------------\n",
      "(3, tensor([[0., 0., 1., 0.],\n",
      "        [0., 0., 1., 0.]]))\n",
      "--------------------\n",
      "(0, tensor([[0., 1., 0., 0.],\n",
      "        [1., 0., 0., 0.]]))\n",
      "--------------------\n",
      "(1, tensor([[0., 0., 1., 0.],\n",
      "        [0., 0., 1., 0.]]))\n",
      "--------------------\n",
      "(2, tensor([[0., 1., 0., 0.],\n",
      "        [1., 0., 0., 0.]]))\n",
      "--------------------\n",
      "(3, tensor([[0., 0., 1., 0.],\n",
      "        [0., 0., 1., 0.]]))\n",
      "--------------------\n",
      "(0, tensor([[0., 1., 0., 0.],\n",
      "        [1., 0., 0., 0.]]))\n",
      "--------------------\n",
      "(1, tensor([[0., 0., 1., 0.],\n",
      "        [0., 0., 1., 0.]]))\n",
      "--------------------\n",
      "(2, tensor([[0., 1., 0., 0.],\n",
      "        [1., 0., 0., 0.]]))\n",
      "--------------------\n",
      "(3, tensor([[0., 0., 1., 0.],\n",
      "        [0., 0., 1., 0.]]))\n",
      "--------------------\n",
      "(0, tensor([[0., 1., 0., 0.],\n",
      "        [1., 0., 0., 0.]]))\n",
      "--------------------\n",
      "(1, tensor([[0., 0., 1., 0.],\n",
      "        [0., 0., 1., 0.]]))\n",
      "--------------------\n",
      "(2, tensor([[0., 1., 0., 0.],\n",
      "        [1., 0., 0., 0.]]))\n",
      "--------------------\n",
      "(3, tensor([[0., 0., 1., 0.],\n",
      "        [0., 0., 1., 0.]]))\n",
      "--------------------\n",
      "(0, tensor([[0., 1., 0., 0.],\n",
      "        [1., 0., 0., 0.]]))\n",
      "--------------------\n",
      "(1, tensor([[0., 0., 1., 0.],\n",
      "        [0., 0., 1., 0.]]))\n",
      "--------------------\n",
      "(2, tensor([[0., 1., 0., 0.],\n",
      "        [1., 0., 0., 0.]]))\n",
      "--------------------\n",
      "(3, tensor([[0., 0., 1., 0.],\n",
      "        [0., 0., 1., 0.]]))\n",
      "--------------------\n",
      "(0, tensor([[0., 1., 0., 0.],\n",
      "        [1., 0., 0., 0.]]))\n",
      "--------------------\n",
      "(1, tensor([[0., 0., 1., 0.],\n",
      "        [0., 0., 1., 0.]]))\n",
      "--------------------\n",
      "(2, tensor([[0., 1., 0., 0.],\n",
      "        [1., 0., 0., 0.]]))\n",
      "--------------------\n",
      "(3, tensor([[0., 0., 1., 0.],\n",
      "        [0., 0., 1., 0.]]))\n",
      "--------------------\n",
      "(0, tensor([[0., 1., 0., 0.],\n",
      "        [1., 0., 0., 0.]]))\n",
      "--------------------\n",
      "(1, tensor([[0., 0., 1., 0.],\n",
      "        [0., 0., 1., 0.]]))\n",
      "--------------------\n",
      "(2, tensor([[0., 1., 0., 0.],\n",
      "        [1., 0., 0., 0.]]))\n",
      "--------------------\n",
      "(3, tensor([[0., 0., 1., 0.],\n",
      "        [0., 0., 1., 0.]]))\n",
      "--------------------\n",
      "(0, tensor([[0., 1., 0., 0.],\n",
      "        [1., 0., 0., 0.]]))\n",
      "--------------------\n",
      "(1, tensor([[0., 0., 1., 0.],\n",
      "        [0., 0., 1., 0.]]))\n",
      "--------------------\n",
      "(2, tensor([[0., 1., 0., 0.],\n",
      "        [1., 0., 0., 0.]]))\n",
      "--------------------\n",
      "(3, tensor([[0., 0., 1., 0.],\n",
      "        [0., 0., 1., 0.]]))\n",
      "--------------------\n",
      "(0, tensor([[0., 1., 0., 0.],\n",
      "        [1., 0., 0., 0.]]))\n",
      "--------------------\n",
      "(1, tensor([[0., 0., 1., 0.],\n",
      "        [0., 0., 1., 0.]]))\n",
      "--------------------\n",
      "(2, tensor([[0., 1., 0., 0.],\n",
      "        [1., 0., 0., 0.]]))\n",
      "--------------------\n",
      "(3, tensor([[0., 0., 1., 0.],\n",
      "        [0., 0., 1., 0.]]))\n",
      "--------------------\n",
      "(0, tensor([[0., 1., 0., 0.],\n",
      "        [1., 0., 0., 0.]]))\n",
      "--------------------\n",
      "(1, tensor([[0., 0., 1., 0.],\n",
      "        [0., 0., 1., 0.]]))\n",
      "--------------------\n",
      "(2, tensor([[0., 1., 0., 0.],\n",
      "        [1., 0., 0., 0.]]))\n",
      "--------------------\n",
      "(3, tensor([[0., 0., 1., 0.],\n",
      "        [0., 0., 1., 0.]]))\n",
      "--------------------\n",
      "(0, tensor([[0., 1., 0., 0.],\n",
      "        [1., 0., 0., 0.]]))\n",
      "--------------------\n",
      "(1, tensor([[0., 0., 1., 0.],\n",
      "        [0., 0., 1., 0.]]))\n",
      "--------------------\n",
      "(2, tensor([[0., 1., 0., 0.],\n",
      "        [1., 0., 0., 0.]]))\n",
      "--------------------\n",
      "(3, tensor([[0., 0., 1., 0.],\n",
      "        [0., 0., 1., 0.]]))\n",
      "--------------------\n"
     ]
    }
   ],
   "source": [
    "for epoch in range(15):\n",
    "    for input in enumerate(inputs):\n",
    "        print(input)\n",
    "        print('-'*20)"
   ]
  },
  {
   "cell_type": "markdown",
   "id": "e93052e3",
   "metadata": {},
   "source": [
    "first parameter : -1   it can calculate the right number"
   ]
  },
  {
   "cell_type": "code",
   "execution_count": 61,
   "id": "ce2a86e2",
   "metadata": {},
   "outputs": [
    {
     "name": "stdout",
     "output_type": "stream",
     "text": [
      "tensor([[3],\n",
      "        [1],\n",
      "        [3],\n",
      "        [2],\n",
      "        [3],\n",
      "        [1],\n",
      "        [3],\n",
      "        [2]])\n"
     ]
    }
   ],
   "source": [
    "lables = torch.LongTensor(y_data).view(-1,1)\n",
    "print(lables)"
   ]
  },
  {
   "cell_type": "code",
   "execution_count": 62,
   "id": "1629eb82",
   "metadata": {},
   "outputs": [],
   "source": [
    "class Model(torch.nn.Module):\n",
    "    def __init__(self, input_size, hidden_size, batch_size):\n",
    "        super(Model, self).__init__()\n",
    "        self.batch_size = batch_size\n",
    "        self.input_size = input_size\n",
    "        self.hidden_size = hidden_size\n",
    "        self.rnncell = torch.nn.RNNCell(input_size = self.input_size,hidden_size=self.hidden_size)\n",
    "    def forward(self, input, hidden):\n",
    "        hidden = self.rnncell(input, hidden)\n",
    "        return hidden\n",
    "    def init_hidden(self):\n",
    "        return torch.zeros(self.batch_size, self.hidden_size)\n",
    "net = Model(input_size, hidden_size, batch_size)"
   ]
  },
  {
   "cell_type": "code",
   "execution_count": 63,
   "id": "5f9e86aa",
   "metadata": {},
   "outputs": [],
   "source": [
    "criterion = torch.nn.CrossEntropyLoss()\n",
    "optimizer = torch.optim.Adam(net.parameters(), lr = 0.1)"
   ]
  },
  {
   "cell_type": "code",
   "execution_count": 64,
   "id": "0755a975",
   "metadata": {},
   "outputs": [
    {
     "name": "stdout",
     "output_type": "stream",
     "text": [
      "Predicted string:"
     ]
    },
    {
     "ename": "ValueError",
     "evalue": "Expected input batch_size (2) to match target batch_size (1).",
     "output_type": "error",
     "traceback": [
      "\u001b[1;31m---------------------------------------------------------------------------\u001b[0m",
      "\u001b[1;31mValueError\u001b[0m                                Traceback (most recent call last)",
      "\u001b[1;32m~\\AppData\\Local\\Temp/ipykernel_6740/3267082353.py\u001b[0m in \u001b[0;36m<module>\u001b[1;34m\u001b[0m\n\u001b[0;32m      6\u001b[0m     \u001b[1;32mfor\u001b[0m \u001b[0minput\u001b[0m\u001b[1;33m,\u001b[0m \u001b[0mlabel\u001b[0m \u001b[1;32min\u001b[0m \u001b[0mzip\u001b[0m\u001b[1;33m(\u001b[0m\u001b[0minputs\u001b[0m\u001b[1;33m,\u001b[0m\u001b[0mlables\u001b[0m\u001b[1;33m)\u001b[0m\u001b[1;33m:\u001b[0m\u001b[1;33m\u001b[0m\u001b[1;33m\u001b[0m\u001b[0m\n\u001b[0;32m      7\u001b[0m         \u001b[0mhidden\u001b[0m \u001b[1;33m=\u001b[0m \u001b[0mnet\u001b[0m\u001b[1;33m(\u001b[0m\u001b[0minput\u001b[0m\u001b[1;33m,\u001b[0m \u001b[0mhidden\u001b[0m\u001b[1;33m)\u001b[0m\u001b[1;33m\u001b[0m\u001b[1;33m\u001b[0m\u001b[0m\n\u001b[1;32m----> 8\u001b[1;33m         \u001b[0mloss\u001b[0m \u001b[1;33m+=\u001b[0m \u001b[0mcriterion\u001b[0m\u001b[1;33m(\u001b[0m\u001b[0mhidden\u001b[0m\u001b[1;33m,\u001b[0m\u001b[0mlabel\u001b[0m\u001b[1;33m)\u001b[0m\u001b[1;33m\u001b[0m\u001b[1;33m\u001b[0m\u001b[0m\n\u001b[0m\u001b[0;32m      9\u001b[0m         \u001b[0m_\u001b[0m\u001b[1;33m,\u001b[0m\u001b[0midx\u001b[0m \u001b[1;33m=\u001b[0m \u001b[0mhidden\u001b[0m\u001b[1;33m.\u001b[0m\u001b[0mmax\u001b[0m\u001b[1;33m(\u001b[0m\u001b[0mdim\u001b[0m\u001b[1;33m=\u001b[0m\u001b[1;36m1\u001b[0m\u001b[1;33m)\u001b[0m\u001b[1;33m\u001b[0m\u001b[1;33m\u001b[0m\u001b[0m\n\u001b[0;32m     10\u001b[0m         \u001b[0mprint\u001b[0m\u001b[1;33m(\u001b[0m\u001b[0midx2char\u001b[0m\u001b[1;33m[\u001b[0m\u001b[0midx\u001b[0m\u001b[1;33m.\u001b[0m\u001b[0mitem\u001b[0m\u001b[1;33m(\u001b[0m\u001b[1;33m)\u001b[0m\u001b[1;33m]\u001b[0m\u001b[1;33m,\u001b[0m\u001b[0mend\u001b[0m\u001b[1;33m=\u001b[0m\u001b[1;34m''\u001b[0m\u001b[1;33m)\u001b[0m\u001b[1;33m\u001b[0m\u001b[1;33m\u001b[0m\u001b[0m\n",
      "\u001b[1;32mD:\\software\\Anaconda\\lib\\site-packages\\torch\\nn\\modules\\module.py\u001b[0m in \u001b[0;36m_call_impl\u001b[1;34m(self, *input, **kwargs)\u001b[0m\n\u001b[0;32m   1108\u001b[0m         if not (self._backward_hooks or self._forward_hooks or self._forward_pre_hooks or _global_backward_hooks\n\u001b[0;32m   1109\u001b[0m                 or _global_forward_hooks or _global_forward_pre_hooks):\n\u001b[1;32m-> 1110\u001b[1;33m             \u001b[1;32mreturn\u001b[0m \u001b[0mforward_call\u001b[0m\u001b[1;33m(\u001b[0m\u001b[1;33m*\u001b[0m\u001b[0minput\u001b[0m\u001b[1;33m,\u001b[0m \u001b[1;33m**\u001b[0m\u001b[0mkwargs\u001b[0m\u001b[1;33m)\u001b[0m\u001b[1;33m\u001b[0m\u001b[1;33m\u001b[0m\u001b[0m\n\u001b[0m\u001b[0;32m   1111\u001b[0m         \u001b[1;31m# Do not call functions when jit is used\u001b[0m\u001b[1;33m\u001b[0m\u001b[1;33m\u001b[0m\u001b[0m\n\u001b[0;32m   1112\u001b[0m         \u001b[0mfull_backward_hooks\u001b[0m\u001b[1;33m,\u001b[0m \u001b[0mnon_full_backward_hooks\u001b[0m \u001b[1;33m=\u001b[0m \u001b[1;33m[\u001b[0m\u001b[1;33m]\u001b[0m\u001b[1;33m,\u001b[0m \u001b[1;33m[\u001b[0m\u001b[1;33m]\u001b[0m\u001b[1;33m\u001b[0m\u001b[1;33m\u001b[0m\u001b[0m\n",
      "\u001b[1;32mD:\\software\\Anaconda\\lib\\site-packages\\torch\\nn\\modules\\loss.py\u001b[0m in \u001b[0;36mforward\u001b[1;34m(self, input, target)\u001b[0m\n\u001b[0;32m   1161\u001b[0m \u001b[1;33m\u001b[0m\u001b[0m\n\u001b[0;32m   1162\u001b[0m     \u001b[1;32mdef\u001b[0m \u001b[0mforward\u001b[0m\u001b[1;33m(\u001b[0m\u001b[0mself\u001b[0m\u001b[1;33m,\u001b[0m \u001b[0minput\u001b[0m\u001b[1;33m:\u001b[0m \u001b[0mTensor\u001b[0m\u001b[1;33m,\u001b[0m \u001b[0mtarget\u001b[0m\u001b[1;33m:\u001b[0m \u001b[0mTensor\u001b[0m\u001b[1;33m)\u001b[0m \u001b[1;33m->\u001b[0m \u001b[0mTensor\u001b[0m\u001b[1;33m:\u001b[0m\u001b[1;33m\u001b[0m\u001b[1;33m\u001b[0m\u001b[0m\n\u001b[1;32m-> 1163\u001b[1;33m         return F.cross_entropy(input, target, weight=self.weight,\n\u001b[0m\u001b[0;32m   1164\u001b[0m                                \u001b[0mignore_index\u001b[0m\u001b[1;33m=\u001b[0m\u001b[0mself\u001b[0m\u001b[1;33m.\u001b[0m\u001b[0mignore_index\u001b[0m\u001b[1;33m,\u001b[0m \u001b[0mreduction\u001b[0m\u001b[1;33m=\u001b[0m\u001b[0mself\u001b[0m\u001b[1;33m.\u001b[0m\u001b[0mreduction\u001b[0m\u001b[1;33m,\u001b[0m\u001b[1;33m\u001b[0m\u001b[1;33m\u001b[0m\u001b[0m\n\u001b[0;32m   1165\u001b[0m                                label_smoothing=self.label_smoothing)\n",
      "\u001b[1;32mD:\\software\\Anaconda\\lib\\site-packages\\torch\\nn\\functional.py\u001b[0m in \u001b[0;36mcross_entropy\u001b[1;34m(input, target, weight, size_average, ignore_index, reduce, reduction, label_smoothing)\u001b[0m\n\u001b[0;32m   2994\u001b[0m     \u001b[1;32mif\u001b[0m \u001b[0msize_average\u001b[0m \u001b[1;32mis\u001b[0m \u001b[1;32mnot\u001b[0m \u001b[1;32mNone\u001b[0m \u001b[1;32mor\u001b[0m \u001b[0mreduce\u001b[0m \u001b[1;32mis\u001b[0m \u001b[1;32mnot\u001b[0m \u001b[1;32mNone\u001b[0m\u001b[1;33m:\u001b[0m\u001b[1;33m\u001b[0m\u001b[1;33m\u001b[0m\u001b[0m\n\u001b[0;32m   2995\u001b[0m         \u001b[0mreduction\u001b[0m \u001b[1;33m=\u001b[0m \u001b[0m_Reduction\u001b[0m\u001b[1;33m.\u001b[0m\u001b[0mlegacy_get_string\u001b[0m\u001b[1;33m(\u001b[0m\u001b[0msize_average\u001b[0m\u001b[1;33m,\u001b[0m \u001b[0mreduce\u001b[0m\u001b[1;33m)\u001b[0m\u001b[1;33m\u001b[0m\u001b[1;33m\u001b[0m\u001b[0m\n\u001b[1;32m-> 2996\u001b[1;33m     \u001b[1;32mreturn\u001b[0m \u001b[0mtorch\u001b[0m\u001b[1;33m.\u001b[0m\u001b[0m_C\u001b[0m\u001b[1;33m.\u001b[0m\u001b[0m_nn\u001b[0m\u001b[1;33m.\u001b[0m\u001b[0mcross_entropy_loss\u001b[0m\u001b[1;33m(\u001b[0m\u001b[0minput\u001b[0m\u001b[1;33m,\u001b[0m \u001b[0mtarget\u001b[0m\u001b[1;33m,\u001b[0m \u001b[0mweight\u001b[0m\u001b[1;33m,\u001b[0m \u001b[0m_Reduction\u001b[0m\u001b[1;33m.\u001b[0m\u001b[0mget_enum\u001b[0m\u001b[1;33m(\u001b[0m\u001b[0mreduction\u001b[0m\u001b[1;33m)\u001b[0m\u001b[1;33m,\u001b[0m \u001b[0mignore_index\u001b[0m\u001b[1;33m,\u001b[0m \u001b[0mlabel_smoothing\u001b[0m\u001b[1;33m)\u001b[0m\u001b[1;33m\u001b[0m\u001b[1;33m\u001b[0m\u001b[0m\n\u001b[0m\u001b[0;32m   2997\u001b[0m \u001b[1;33m\u001b[0m\u001b[0m\n\u001b[0;32m   2998\u001b[0m \u001b[1;33m\u001b[0m\u001b[0m\n",
      "\u001b[1;31mValueError\u001b[0m: Expected input batch_size (2) to match target batch_size (1)."
     ]
    }
   ],
   "source": [
    "for epoch in range(15):\n",
    "    loss = 0\n",
    "    optimizer.zero_grad()\n",
    "    hidden = net.init_hidden()\n",
    "    print('Predicted string:',end='')\n",
    "    for input, label in zip(inputs,lables):\n",
    "        hidden = net(input, hidden)\n",
    "        loss += criterion(hidden,label)\n",
    "        _,idx = hidden.max(dim=1)\n",
    "        print(idx2char[idx.item()],end='')\n",
    "    loss.backward()\n",
    "    optimizer.step()\n",
    "    print(', Epoch [%d/15] loss=%.4f' % (epoch+1,loss.item()))"
   ]
  },
  {
   "cell_type": "code",
   "execution_count": null,
   "id": "14268189",
   "metadata": {},
   "outputs": [],
   "source": []
  }
 ],
 "metadata": {
  "kernelspec": {
   "display_name": "Python 3 (ipykernel)",
   "language": "python",
   "name": "python3"
  },
  "language_info": {
   "codemirror_mode": {
    "name": "ipython",
    "version": 3
   },
   "file_extension": ".py",
   "mimetype": "text/x-python",
   "name": "python",
   "nbconvert_exporter": "python",
   "pygments_lexer": "ipython3",
   "version": "3.9.7"
  }
 },
 "nbformat": 4,
 "nbformat_minor": 5
}
